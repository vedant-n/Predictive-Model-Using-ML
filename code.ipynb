{
  "cells": [
    {
      "cell_type": "code",
      "execution_count": 1,
      "metadata": {
        "id": "pMdHQSk2X9SK"
      },
      "outputs": [],
      "source": [
        "import pandas as pd\n",
        "import numpy as np\n",
        "from sklearn.model_selection import train_test_split\n",
        "from sklearn.preprocessing import StandardScaler\n",
        "import tensorflow as tf\n",
        "from tensorflow.keras.models import Sequential\n",
        "from tensorflow.keras.layers import Dense\n",
        "from tensorflow.keras.optimizers import Adam"
      ]
    },
    {
      "cell_type": "code",
      "source": [
        "from google.colab import files\n",
        "import io\n",
        "uploaded = files.upload()"
      ],
      "metadata": {
        "colab": {
          "base_uri": "https://localhost:8080/",
          "height": 73
        },
        "id": "9Wjne8LvYFua",
        "outputId": "56812e5e-2dfe-401a-f814-0a81a7c7a109"
      },
      "execution_count": 2,
      "outputs": [
        {
          "output_type": "display_data",
          "data": {
            "text/plain": [
              "<IPython.core.display.HTML object>"
            ],
            "text/html": [
              "\n",
              "     <input type=\"file\" id=\"files-e4313679-e8d1-4f78-b48a-9769971401d0\" name=\"files[]\" multiple disabled\n",
              "        style=\"border:none\" />\n",
              "     <output id=\"result-e4313679-e8d1-4f78-b48a-9769971401d0\">\n",
              "      Upload widget is only available when the cell has been executed in the\n",
              "      current browser session. Please rerun this cell to enable.\n",
              "      </output>\n",
              "      <script>// Copyright 2017 Google LLC\n",
              "//\n",
              "// Licensed under the Apache License, Version 2.0 (the \"License\");\n",
              "// you may not use this file except in compliance with the License.\n",
              "// You may obtain a copy of the License at\n",
              "//\n",
              "//      http://www.apache.org/licenses/LICENSE-2.0\n",
              "//\n",
              "// Unless required by applicable law or agreed to in writing, software\n",
              "// distributed under the License is distributed on an \"AS IS\" BASIS,\n",
              "// WITHOUT WARRANTIES OR CONDITIONS OF ANY KIND, either express or implied.\n",
              "// See the License for the specific language governing permissions and\n",
              "// limitations under the License.\n",
              "\n",
              "/**\n",
              " * @fileoverview Helpers for google.colab Python module.\n",
              " */\n",
              "(function(scope) {\n",
              "function span(text, styleAttributes = {}) {\n",
              "  const element = document.createElement('span');\n",
              "  element.textContent = text;\n",
              "  for (const key of Object.keys(styleAttributes)) {\n",
              "    element.style[key] = styleAttributes[key];\n",
              "  }\n",
              "  return element;\n",
              "}\n",
              "\n",
              "// Max number of bytes which will be uploaded at a time.\n",
              "const MAX_PAYLOAD_SIZE = 100 * 1024;\n",
              "\n",
              "function _uploadFiles(inputId, outputId) {\n",
              "  const steps = uploadFilesStep(inputId, outputId);\n",
              "  const outputElement = document.getElementById(outputId);\n",
              "  // Cache steps on the outputElement to make it available for the next call\n",
              "  // to uploadFilesContinue from Python.\n",
              "  outputElement.steps = steps;\n",
              "\n",
              "  return _uploadFilesContinue(outputId);\n",
              "}\n",
              "\n",
              "// This is roughly an async generator (not supported in the browser yet),\n",
              "// where there are multiple asynchronous steps and the Python side is going\n",
              "// to poll for completion of each step.\n",
              "// This uses a Promise to block the python side on completion of each step,\n",
              "// then passes the result of the previous step as the input to the next step.\n",
              "function _uploadFilesContinue(outputId) {\n",
              "  const outputElement = document.getElementById(outputId);\n",
              "  const steps = outputElement.steps;\n",
              "\n",
              "  const next = steps.next(outputElement.lastPromiseValue);\n",
              "  return Promise.resolve(next.value.promise).then((value) => {\n",
              "    // Cache the last promise value to make it available to the next\n",
              "    // step of the generator.\n",
              "    outputElement.lastPromiseValue = value;\n",
              "    return next.value.response;\n",
              "  });\n",
              "}\n",
              "\n",
              "/**\n",
              " * Generator function which is called between each async step of the upload\n",
              " * process.\n",
              " * @param {string} inputId Element ID of the input file picker element.\n",
              " * @param {string} outputId Element ID of the output display.\n",
              " * @return {!Iterable<!Object>} Iterable of next steps.\n",
              " */\n",
              "function* uploadFilesStep(inputId, outputId) {\n",
              "  const inputElement = document.getElementById(inputId);\n",
              "  inputElement.disabled = false;\n",
              "\n",
              "  const outputElement = document.getElementById(outputId);\n",
              "  outputElement.innerHTML = '';\n",
              "\n",
              "  const pickedPromise = new Promise((resolve) => {\n",
              "    inputElement.addEventListener('change', (e) => {\n",
              "      resolve(e.target.files);\n",
              "    });\n",
              "  });\n",
              "\n",
              "  const cancel = document.createElement('button');\n",
              "  inputElement.parentElement.appendChild(cancel);\n",
              "  cancel.textContent = 'Cancel upload';\n",
              "  const cancelPromise = new Promise((resolve) => {\n",
              "    cancel.onclick = () => {\n",
              "      resolve(null);\n",
              "    };\n",
              "  });\n",
              "\n",
              "  // Wait for the user to pick the files.\n",
              "  const files = yield {\n",
              "    promise: Promise.race([pickedPromise, cancelPromise]),\n",
              "    response: {\n",
              "      action: 'starting',\n",
              "    }\n",
              "  };\n",
              "\n",
              "  cancel.remove();\n",
              "\n",
              "  // Disable the input element since further picks are not allowed.\n",
              "  inputElement.disabled = true;\n",
              "\n",
              "  if (!files) {\n",
              "    return {\n",
              "      response: {\n",
              "        action: 'complete',\n",
              "      }\n",
              "    };\n",
              "  }\n",
              "\n",
              "  for (const file of files) {\n",
              "    const li = document.createElement('li');\n",
              "    li.append(span(file.name, {fontWeight: 'bold'}));\n",
              "    li.append(span(\n",
              "        `(${file.type || 'n/a'}) - ${file.size} bytes, ` +\n",
              "        `last modified: ${\n",
              "            file.lastModifiedDate ? file.lastModifiedDate.toLocaleDateString() :\n",
              "                                    'n/a'} - `));\n",
              "    const percent = span('0% done');\n",
              "    li.appendChild(percent);\n",
              "\n",
              "    outputElement.appendChild(li);\n",
              "\n",
              "    const fileDataPromise = new Promise((resolve) => {\n",
              "      const reader = new FileReader();\n",
              "      reader.onload = (e) => {\n",
              "        resolve(e.target.result);\n",
              "      };\n",
              "      reader.readAsArrayBuffer(file);\n",
              "    });\n",
              "    // Wait for the data to be ready.\n",
              "    let fileData = yield {\n",
              "      promise: fileDataPromise,\n",
              "      response: {\n",
              "        action: 'continue',\n",
              "      }\n",
              "    };\n",
              "\n",
              "    // Use a chunked sending to avoid message size limits. See b/62115660.\n",
              "    let position = 0;\n",
              "    do {\n",
              "      const length = Math.min(fileData.byteLength - position, MAX_PAYLOAD_SIZE);\n",
              "      const chunk = new Uint8Array(fileData, position, length);\n",
              "      position += length;\n",
              "\n",
              "      const base64 = btoa(String.fromCharCode.apply(null, chunk));\n",
              "      yield {\n",
              "        response: {\n",
              "          action: 'append',\n",
              "          file: file.name,\n",
              "          data: base64,\n",
              "        },\n",
              "      };\n",
              "\n",
              "      let percentDone = fileData.byteLength === 0 ?\n",
              "          100 :\n",
              "          Math.round((position / fileData.byteLength) * 100);\n",
              "      percent.textContent = `${percentDone}% done`;\n",
              "\n",
              "    } while (position < fileData.byteLength);\n",
              "  }\n",
              "\n",
              "  // All done.\n",
              "  yield {\n",
              "    response: {\n",
              "      action: 'complete',\n",
              "    }\n",
              "  };\n",
              "}\n",
              "\n",
              "scope.google = scope.google || {};\n",
              "scope.google.colab = scope.google.colab || {};\n",
              "scope.google.colab._files = {\n",
              "  _uploadFiles,\n",
              "  _uploadFilesContinue,\n",
              "};\n",
              "})(self);\n",
              "</script> "
            ]
          },
          "metadata": {}
        },
        {
          "output_type": "stream",
          "name": "stdout",
          "text": [
            "Saving diabetes.csv to diabetes.csv\n"
          ]
        }
      ]
    },
    {
      "cell_type": "code",
      "source": [
        "df = pd.read_csv(io.BytesIO(uploaded['diabetes.csv']))"
      ],
      "metadata": {
        "id": "SLqso_n1YGbI"
      },
      "execution_count": 11,
      "outputs": []
    },
    {
      "cell_type": "code",
      "execution_count": 12,
      "metadata": {
        "colab": {
          "base_uri": "https://localhost:8080/"
        },
        "id": "0Op1eHCOX9ST",
        "outputId": "43fef076-444a-406d-b952-04375ed4a427"
      },
      "outputs": [
        {
          "output_type": "stream",
          "name": "stdout",
          "text": [
            "   Pregnancies  Glucose  BloodPressure  SkinThickness  Insulin   BMI  \\\n",
            "0            6      148             72             35        0  33.6   \n",
            "1            1       85             66             29        0  26.6   \n",
            "2            8      183             64              0        0  23.3   \n",
            "3            1       89             66             23       94  28.1   \n",
            "4            0      137             40             35      168  43.1   \n",
            "\n",
            "   DiabetesPedigreeFunction  Age  Outcome  \n",
            "0                     0.627   50        1  \n",
            "1                     0.351   31        0  \n",
            "2                     0.672   32        1  \n",
            "3                     0.167   21        0  \n",
            "4                     2.288   33        1  \n"
          ]
        }
      ],
      "source": [
        "print(df.head())"
      ]
    },
    {
      "cell_type": "code",
      "execution_count": 13,
      "metadata": {
        "colab": {
          "base_uri": "https://localhost:8080/"
        },
        "id": "0wPaoCisX9SU",
        "outputId": "fc707b04-df0c-47d7-cc90-caafb35ff7a8"
      },
      "outputs": [
        {
          "output_type": "stream",
          "name": "stdout",
          "text": [
            "<class 'pandas.core.frame.DataFrame'>\n",
            "RangeIndex: 768 entries, 0 to 767\n",
            "Data columns (total 9 columns):\n",
            " #   Column                    Non-Null Count  Dtype  \n",
            "---  ------                    --------------  -----  \n",
            " 0   Pregnancies               768 non-null    int64  \n",
            " 1   Glucose                   768 non-null    int64  \n",
            " 2   BloodPressure             768 non-null    int64  \n",
            " 3   SkinThickness             768 non-null    int64  \n",
            " 4   Insulin                   768 non-null    int64  \n",
            " 5   BMI                       768 non-null    float64\n",
            " 6   DiabetesPedigreeFunction  768 non-null    float64\n",
            " 7   Age                       768 non-null    int64  \n",
            " 8   Outcome                   768 non-null    int64  \n",
            "dtypes: float64(2), int64(7)\n",
            "memory usage: 54.1 KB\n",
            "None\n"
          ]
        }
      ],
      "source": [
        "print(df.info())"
      ]
    },
    {
      "cell_type": "code",
      "execution_count": 14,
      "metadata": {
        "colab": {
          "base_uri": "https://localhost:8080/"
        },
        "id": "NFT93eDcX9SV",
        "outputId": "5bb80aae-41c7-4d48-8c8c-13dc0bf3de85"
      },
      "outputs": [
        {
          "output_type": "stream",
          "name": "stdout",
          "text": [
            "       Pregnancies     Glucose  BloodPressure  SkinThickness     Insulin  \\\n",
            "count   768.000000  768.000000     768.000000     768.000000  768.000000   \n",
            "mean      3.845052  120.894531      69.105469      20.536458   79.799479   \n",
            "std       3.369578   31.972618      19.355807      15.952218  115.244002   \n",
            "min       0.000000    0.000000       0.000000       0.000000    0.000000   \n",
            "25%       1.000000   99.000000      62.000000       0.000000    0.000000   \n",
            "50%       3.000000  117.000000      72.000000      23.000000   30.500000   \n",
            "75%       6.000000  140.250000      80.000000      32.000000  127.250000   \n",
            "max      17.000000  199.000000     122.000000      99.000000  846.000000   \n",
            "\n",
            "              BMI  DiabetesPedigreeFunction         Age     Outcome  \n",
            "count  768.000000                768.000000  768.000000  768.000000  \n",
            "mean    31.992578                  0.471876   33.240885    0.348958  \n",
            "std      7.884160                  0.331329   11.760232    0.476951  \n",
            "min      0.000000                  0.078000   21.000000    0.000000  \n",
            "25%     27.300000                  0.243750   24.000000    0.000000  \n",
            "50%     32.000000                  0.372500   29.000000    0.000000  \n",
            "75%     36.600000                  0.626250   41.000000    1.000000  \n",
            "max     67.100000                  2.420000   81.000000    1.000000  \n"
          ]
        }
      ],
      "source": [
        "print(df.describe())"
      ]
    },
    {
      "cell_type": "code",
      "execution_count": 15,
      "metadata": {
        "colab": {
          "base_uri": "https://localhost:8080/"
        },
        "id": "tqepfKTIX9SW",
        "outputId": "90fd86c3-accb-49df-929e-f8ec370787b0"
      },
      "outputs": [
        {
          "output_type": "stream",
          "name": "stdout",
          "text": [
            "Pregnancies                 0\n",
            "Glucose                     0\n",
            "BloodPressure               0\n",
            "SkinThickness               0\n",
            "Insulin                     0\n",
            "BMI                         0\n",
            "DiabetesPedigreeFunction    0\n",
            "Age                         0\n",
            "Outcome                     0\n",
            "dtype: int64\n"
          ]
        }
      ],
      "source": [
        "# Check for missing values\n",
        "print(df.isnull().sum())"
      ]
    },
    {
      "cell_type": "code",
      "execution_count": 16,
      "metadata": {
        "id": "ULS4ZgxAX9SW"
      },
      "outputs": [],
      "source": [
        "# Features and target\n",
        "X = df.drop('Outcome', axis=1)\n",
        "y = df['Outcome']\n"
      ]
    },
    {
      "cell_type": "code",
      "execution_count": 17,
      "metadata": {
        "id": "aymEFlGEX9SX"
      },
      "outputs": [],
      "source": [
        "# Split the data into training and testing sets\n",
        "X_train, X_test, y_train, y_test = train_test_split(X, y, test_size=0.2, random_state=42)\n"
      ]
    },
    {
      "cell_type": "code",
      "source": [
        "# Standardize the data (mean=0, variance=1)\n",
        "scaler = StandardScaler()\n",
        "X_train_scaled = scaler.fit_transform(X_train)\n",
        "X_test_scaled = scaler.transform(X_test)\n"
      ],
      "metadata": {
        "id": "3G3ai3cWYuEO"
      },
      "execution_count": 18,
      "outputs": []
    },
    {
      "cell_type": "code",
      "source": [
        "# Build the neural network model\n",
        "model = Sequential([\n",
        "    Dense(32, input_shape=(X_train_scaled.shape[1],), activation='relu'),  # Input layer\n",
        "    Dense(16, activation='relu'),  # Hidden layer\n",
        "    Dense(1, activation='sigmoid')  # Output layer (sigmoid for binary classification)\n",
        "])"
      ],
      "metadata": {
        "id": "NYhmxTeUYwsT"
      },
      "execution_count": 19,
      "outputs": []
    },
    {
      "cell_type": "code",
      "source": [
        "# Compile the model\n",
        "model.compile(optimizer=Adam(learning_rate=0.001), loss='binary_crossentropy', metrics=['accuracy'])\n",
        "\n",
        "# Train the model\n",
        "history = model.fit(X_train_scaled, y_train, epochs=100, validation_split=0.2, batch_size=10, verbose=1)\n",
        "\n"
      ],
      "metadata": {
        "colab": {
          "base_uri": "https://localhost:8080/"
        },
        "id": "RcM7Ca0ZYzx5",
        "outputId": "0a4bad71-451b-48d4-fc7a-209ba44f0e1f"
      },
      "execution_count": 20,
      "outputs": [
        {
          "output_type": "stream",
          "name": "stdout",
          "text": [
            "Epoch 1/100\n",
            "50/50 [==============================] - 2s 7ms/step - loss: 0.6167 - accuracy: 0.6741 - val_loss: 0.5956 - val_accuracy: 0.6911\n",
            "Epoch 2/100\n",
            "50/50 [==============================] - 0s 3ms/step - loss: 0.5458 - accuracy: 0.7556 - val_loss: 0.5393 - val_accuracy: 0.6992\n",
            "Epoch 3/100\n",
            "50/50 [==============================] - 0s 3ms/step - loss: 0.5020 - accuracy: 0.7800 - val_loss: 0.5113 - val_accuracy: 0.7236\n",
            "Epoch 4/100\n",
            "50/50 [==============================] - 0s 4ms/step - loss: 0.4766 - accuracy: 0.7882 - val_loss: 0.4957 - val_accuracy: 0.7236\n",
            "Epoch 5/100\n",
            "50/50 [==============================] - 0s 3ms/step - loss: 0.4653 - accuracy: 0.7800 - val_loss: 0.4937 - val_accuracy: 0.7236\n",
            "Epoch 6/100\n",
            "50/50 [==============================] - 0s 3ms/step - loss: 0.4579 - accuracy: 0.7862 - val_loss: 0.4907 - val_accuracy: 0.7317\n",
            "Epoch 7/100\n",
            "50/50 [==============================] - 0s 3ms/step - loss: 0.4483 - accuracy: 0.7923 - val_loss: 0.4914 - val_accuracy: 0.7317\n",
            "Epoch 8/100\n",
            "50/50 [==============================] - 0s 4ms/step - loss: 0.4430 - accuracy: 0.7882 - val_loss: 0.4892 - val_accuracy: 0.7317\n",
            "Epoch 9/100\n",
            "50/50 [==============================] - 0s 5ms/step - loss: 0.4385 - accuracy: 0.7882 - val_loss: 0.4884 - val_accuracy: 0.7561\n",
            "Epoch 10/100\n",
            "50/50 [==============================] - 0s 3ms/step - loss: 0.4342 - accuracy: 0.7902 - val_loss: 0.4908 - val_accuracy: 0.7317\n",
            "Epoch 11/100\n",
            "50/50 [==============================] - 0s 3ms/step - loss: 0.4296 - accuracy: 0.7923 - val_loss: 0.4883 - val_accuracy: 0.7398\n",
            "Epoch 12/100\n",
            "50/50 [==============================] - 0s 3ms/step - loss: 0.4249 - accuracy: 0.7963 - val_loss: 0.4888 - val_accuracy: 0.7236\n",
            "Epoch 13/100\n",
            "50/50 [==============================] - 0s 4ms/step - loss: 0.4212 - accuracy: 0.8024 - val_loss: 0.4883 - val_accuracy: 0.7398\n",
            "Epoch 14/100\n",
            "50/50 [==============================] - 0s 3ms/step - loss: 0.4188 - accuracy: 0.8045 - val_loss: 0.4866 - val_accuracy: 0.7398\n",
            "Epoch 15/100\n",
            "50/50 [==============================] - 0s 3ms/step - loss: 0.4194 - accuracy: 0.8106 - val_loss: 0.4861 - val_accuracy: 0.7480\n",
            "Epoch 16/100\n",
            "50/50 [==============================] - 0s 3ms/step - loss: 0.4116 - accuracy: 0.8086 - val_loss: 0.4866 - val_accuracy: 0.7480\n",
            "Epoch 17/100\n",
            "50/50 [==============================] - 0s 4ms/step - loss: 0.4099 - accuracy: 0.8086 - val_loss: 0.4850 - val_accuracy: 0.7480\n",
            "Epoch 18/100\n",
            "50/50 [==============================] - 0s 3ms/step - loss: 0.4066 - accuracy: 0.8126 - val_loss: 0.4865 - val_accuracy: 0.7398\n",
            "Epoch 19/100\n",
            "50/50 [==============================] - 0s 4ms/step - loss: 0.4059 - accuracy: 0.8065 - val_loss: 0.4874 - val_accuracy: 0.7398\n",
            "Epoch 20/100\n",
            "50/50 [==============================] - 0s 3ms/step - loss: 0.4019 - accuracy: 0.8086 - val_loss: 0.4880 - val_accuracy: 0.7398\n",
            "Epoch 21/100\n",
            "50/50 [==============================] - 0s 3ms/step - loss: 0.4014 - accuracy: 0.8167 - val_loss: 0.4848 - val_accuracy: 0.7480\n",
            "Epoch 22/100\n",
            "50/50 [==============================] - 0s 3ms/step - loss: 0.3979 - accuracy: 0.8187 - val_loss: 0.4885 - val_accuracy: 0.7561\n",
            "Epoch 23/100\n",
            "50/50 [==============================] - 0s 3ms/step - loss: 0.3974 - accuracy: 0.8147 - val_loss: 0.4849 - val_accuracy: 0.7561\n",
            "Epoch 24/100\n",
            "50/50 [==============================] - 0s 3ms/step - loss: 0.3957 - accuracy: 0.8187 - val_loss: 0.4876 - val_accuracy: 0.7561\n",
            "Epoch 25/100\n",
            "50/50 [==============================] - 0s 4ms/step - loss: 0.3927 - accuracy: 0.8228 - val_loss: 0.4861 - val_accuracy: 0.7561\n",
            "Epoch 26/100\n",
            "50/50 [==============================] - 0s 3ms/step - loss: 0.3948 - accuracy: 0.8126 - val_loss: 0.4869 - val_accuracy: 0.7480\n",
            "Epoch 27/100\n",
            "50/50 [==============================] - 0s 4ms/step - loss: 0.3901 - accuracy: 0.8269 - val_loss: 0.4893 - val_accuracy: 0.7561\n",
            "Epoch 28/100\n",
            "50/50 [==============================] - 0s 4ms/step - loss: 0.3877 - accuracy: 0.8228 - val_loss: 0.4874 - val_accuracy: 0.7480\n",
            "Epoch 29/100\n",
            "50/50 [==============================] - 0s 4ms/step - loss: 0.3865 - accuracy: 0.8167 - val_loss: 0.4877 - val_accuracy: 0.7480\n",
            "Epoch 30/100\n",
            "50/50 [==============================] - 0s 5ms/step - loss: 0.3851 - accuracy: 0.8208 - val_loss: 0.4898 - val_accuracy: 0.7561\n",
            "Epoch 31/100\n",
            "50/50 [==============================] - 0s 4ms/step - loss: 0.3841 - accuracy: 0.8248 - val_loss: 0.4894 - val_accuracy: 0.7480\n",
            "Epoch 32/100\n",
            "50/50 [==============================] - 0s 6ms/step - loss: 0.3822 - accuracy: 0.8228 - val_loss: 0.4871 - val_accuracy: 0.7480\n",
            "Epoch 33/100\n",
            "50/50 [==============================] - 0s 6ms/step - loss: 0.3787 - accuracy: 0.8228 - val_loss: 0.4903 - val_accuracy: 0.7480\n",
            "Epoch 34/100\n",
            "50/50 [==============================] - 0s 5ms/step - loss: 0.3770 - accuracy: 0.8330 - val_loss: 0.4872 - val_accuracy: 0.7480\n",
            "Epoch 35/100\n",
            "50/50 [==============================] - 0s 5ms/step - loss: 0.3757 - accuracy: 0.8330 - val_loss: 0.4925 - val_accuracy: 0.7317\n",
            "Epoch 36/100\n",
            "50/50 [==============================] - 0s 5ms/step - loss: 0.3741 - accuracy: 0.8310 - val_loss: 0.4903 - val_accuracy: 0.7480\n",
            "Epoch 37/100\n",
            "50/50 [==============================] - 0s 6ms/step - loss: 0.3738 - accuracy: 0.8289 - val_loss: 0.4956 - val_accuracy: 0.7480\n",
            "Epoch 38/100\n",
            "50/50 [==============================] - 0s 5ms/step - loss: 0.3702 - accuracy: 0.8228 - val_loss: 0.4976 - val_accuracy: 0.7480\n",
            "Epoch 39/100\n",
            "50/50 [==============================] - 0s 4ms/step - loss: 0.3714 - accuracy: 0.8310 - val_loss: 0.4929 - val_accuracy: 0.7398\n",
            "Epoch 40/100\n",
            "50/50 [==============================] - 0s 3ms/step - loss: 0.3696 - accuracy: 0.8330 - val_loss: 0.5016 - val_accuracy: 0.7480\n",
            "Epoch 41/100\n",
            "50/50 [==============================] - 0s 3ms/step - loss: 0.3681 - accuracy: 0.8350 - val_loss: 0.4904 - val_accuracy: 0.7398\n",
            "Epoch 42/100\n",
            "50/50 [==============================] - 0s 4ms/step - loss: 0.3679 - accuracy: 0.8310 - val_loss: 0.4886 - val_accuracy: 0.7642\n",
            "Epoch 43/100\n",
            "50/50 [==============================] - 0s 3ms/step - loss: 0.3622 - accuracy: 0.8432 - val_loss: 0.4904 - val_accuracy: 0.7480\n",
            "Epoch 44/100\n",
            "50/50 [==============================] - 0s 3ms/step - loss: 0.3610 - accuracy: 0.8289 - val_loss: 0.4914 - val_accuracy: 0.7317\n",
            "Epoch 45/100\n",
            "50/50 [==============================] - 0s 3ms/step - loss: 0.3607 - accuracy: 0.8350 - val_loss: 0.4926 - val_accuracy: 0.7317\n",
            "Epoch 46/100\n",
            "50/50 [==============================] - 0s 3ms/step - loss: 0.3580 - accuracy: 0.8350 - val_loss: 0.4960 - val_accuracy: 0.7317\n",
            "Epoch 47/100\n",
            "50/50 [==============================] - 0s 3ms/step - loss: 0.3559 - accuracy: 0.8411 - val_loss: 0.5004 - val_accuracy: 0.7398\n",
            "Epoch 48/100\n",
            "50/50 [==============================] - 0s 4ms/step - loss: 0.3560 - accuracy: 0.8350 - val_loss: 0.5047 - val_accuracy: 0.7317\n",
            "Epoch 49/100\n",
            "50/50 [==============================] - 0s 3ms/step - loss: 0.3529 - accuracy: 0.8330 - val_loss: 0.5010 - val_accuracy: 0.7317\n",
            "Epoch 50/100\n",
            "50/50 [==============================] - 0s 3ms/step - loss: 0.3519 - accuracy: 0.8411 - val_loss: 0.5012 - val_accuracy: 0.7236\n",
            "Epoch 51/100\n",
            "50/50 [==============================] - 0s 3ms/step - loss: 0.3500 - accuracy: 0.8371 - val_loss: 0.5002 - val_accuracy: 0.7317\n",
            "Epoch 52/100\n",
            "50/50 [==============================] - 0s 4ms/step - loss: 0.3484 - accuracy: 0.8289 - val_loss: 0.5078 - val_accuracy: 0.7236\n",
            "Epoch 53/100\n",
            "50/50 [==============================] - 0s 3ms/step - loss: 0.3487 - accuracy: 0.8371 - val_loss: 0.5080 - val_accuracy: 0.7236\n",
            "Epoch 54/100\n",
            "50/50 [==============================] - 0s 5ms/step - loss: 0.3446 - accuracy: 0.8371 - val_loss: 0.5045 - val_accuracy: 0.7236\n",
            "Epoch 55/100\n",
            "50/50 [==============================] - 0s 3ms/step - loss: 0.3435 - accuracy: 0.8411 - val_loss: 0.5076 - val_accuracy: 0.7317\n",
            "Epoch 56/100\n",
            "50/50 [==============================] - 0s 3ms/step - loss: 0.3420 - accuracy: 0.8452 - val_loss: 0.5050 - val_accuracy: 0.7317\n",
            "Epoch 57/100\n",
            "50/50 [==============================] - 0s 3ms/step - loss: 0.3403 - accuracy: 0.8493 - val_loss: 0.5075 - val_accuracy: 0.7317\n",
            "Epoch 58/100\n",
            "50/50 [==============================] - 0s 4ms/step - loss: 0.3412 - accuracy: 0.8493 - val_loss: 0.5123 - val_accuracy: 0.7317\n",
            "Epoch 59/100\n",
            "50/50 [==============================] - 0s 4ms/step - loss: 0.3449 - accuracy: 0.8452 - val_loss: 0.5104 - val_accuracy: 0.7236\n",
            "Epoch 60/100\n",
            "50/50 [==============================] - 0s 3ms/step - loss: 0.3378 - accuracy: 0.8615 - val_loss: 0.5097 - val_accuracy: 0.7154\n",
            "Epoch 61/100\n",
            "50/50 [==============================] - 0s 3ms/step - loss: 0.3350 - accuracy: 0.8534 - val_loss: 0.5134 - val_accuracy: 0.7236\n",
            "Epoch 62/100\n",
            "50/50 [==============================] - 0s 3ms/step - loss: 0.3333 - accuracy: 0.8513 - val_loss: 0.5147 - val_accuracy: 0.7236\n",
            "Epoch 63/100\n",
            "50/50 [==============================] - 0s 3ms/step - loss: 0.3351 - accuracy: 0.8574 - val_loss: 0.5169 - val_accuracy: 0.7317\n",
            "Epoch 64/100\n",
            "50/50 [==============================] - 0s 3ms/step - loss: 0.3309 - accuracy: 0.8513 - val_loss: 0.5169 - val_accuracy: 0.7236\n",
            "Epoch 65/100\n",
            "50/50 [==============================] - 0s 4ms/step - loss: 0.3292 - accuracy: 0.8554 - val_loss: 0.5166 - val_accuracy: 0.7236\n",
            "Epoch 66/100\n",
            "50/50 [==============================] - 0s 3ms/step - loss: 0.3269 - accuracy: 0.8513 - val_loss: 0.5173 - val_accuracy: 0.7236\n",
            "Epoch 67/100\n",
            "50/50 [==============================] - 0s 3ms/step - loss: 0.3257 - accuracy: 0.8554 - val_loss: 0.5135 - val_accuracy: 0.7236\n",
            "Epoch 68/100\n",
            "50/50 [==============================] - 0s 3ms/step - loss: 0.3263 - accuracy: 0.8574 - val_loss: 0.5127 - val_accuracy: 0.7236\n",
            "Epoch 69/100\n",
            "50/50 [==============================] - 0s 3ms/step - loss: 0.3286 - accuracy: 0.8574 - val_loss: 0.5153 - val_accuracy: 0.7317\n",
            "Epoch 70/100\n",
            "50/50 [==============================] - 0s 3ms/step - loss: 0.3232 - accuracy: 0.8656 - val_loss: 0.5154 - val_accuracy: 0.7236\n",
            "Epoch 71/100\n",
            "50/50 [==============================] - 0s 4ms/step - loss: 0.3203 - accuracy: 0.8554 - val_loss: 0.5208 - val_accuracy: 0.7236\n",
            "Epoch 72/100\n",
            "50/50 [==============================] - 0s 3ms/step - loss: 0.3182 - accuracy: 0.8574 - val_loss: 0.5201 - val_accuracy: 0.7236\n",
            "Epoch 73/100\n",
            "50/50 [==============================] - 0s 3ms/step - loss: 0.3166 - accuracy: 0.8615 - val_loss: 0.5261 - val_accuracy: 0.7236\n",
            "Epoch 74/100\n",
            "50/50 [==============================] - 0s 3ms/step - loss: 0.3148 - accuracy: 0.8635 - val_loss: 0.5298 - val_accuracy: 0.7154\n",
            "Epoch 75/100\n",
            "50/50 [==============================] - 0s 4ms/step - loss: 0.3154 - accuracy: 0.8615 - val_loss: 0.5250 - val_accuracy: 0.7236\n",
            "Epoch 76/100\n",
            "50/50 [==============================] - 0s 5ms/step - loss: 0.3120 - accuracy: 0.8676 - val_loss: 0.5342 - val_accuracy: 0.7154\n",
            "Epoch 77/100\n",
            "50/50 [==============================] - 0s 3ms/step - loss: 0.3162 - accuracy: 0.8717 - val_loss: 0.5348 - val_accuracy: 0.7236\n",
            "Epoch 78/100\n",
            "50/50 [==============================] - 0s 3ms/step - loss: 0.3104 - accuracy: 0.8656 - val_loss: 0.5334 - val_accuracy: 0.7236\n",
            "Epoch 79/100\n",
            "50/50 [==============================] - 0s 3ms/step - loss: 0.3105 - accuracy: 0.8737 - val_loss: 0.5379 - val_accuracy: 0.7236\n",
            "Epoch 80/100\n",
            "50/50 [==============================] - 0s 4ms/step - loss: 0.3113 - accuracy: 0.8697 - val_loss: 0.5391 - val_accuracy: 0.7154\n",
            "Epoch 81/100\n",
            "50/50 [==============================] - 0s 6ms/step - loss: 0.3044 - accuracy: 0.8758 - val_loss: 0.5406 - val_accuracy: 0.7154\n",
            "Epoch 82/100\n",
            "50/50 [==============================] - 0s 4ms/step - loss: 0.3030 - accuracy: 0.8717 - val_loss: 0.5392 - val_accuracy: 0.7154\n",
            "Epoch 83/100\n",
            "50/50 [==============================] - 0s 3ms/step - loss: 0.3007 - accuracy: 0.8717 - val_loss: 0.5396 - val_accuracy: 0.7154\n",
            "Epoch 84/100\n",
            "50/50 [==============================] - 0s 3ms/step - loss: 0.2994 - accuracy: 0.8717 - val_loss: 0.5350 - val_accuracy: 0.7236\n",
            "Epoch 85/100\n",
            "50/50 [==============================] - 0s 4ms/step - loss: 0.3009 - accuracy: 0.8697 - val_loss: 0.5375 - val_accuracy: 0.7236\n",
            "Epoch 86/100\n",
            "50/50 [==============================] - 0s 5ms/step - loss: 0.2996 - accuracy: 0.8717 - val_loss: 0.5370 - val_accuracy: 0.7317\n",
            "Epoch 87/100\n",
            "50/50 [==============================] - 0s 3ms/step - loss: 0.2944 - accuracy: 0.8778 - val_loss: 0.5447 - val_accuracy: 0.7154\n",
            "Epoch 88/100\n",
            "50/50 [==============================] - 0s 4ms/step - loss: 0.2930 - accuracy: 0.8778 - val_loss: 0.5451 - val_accuracy: 0.7073\n",
            "Epoch 89/100\n",
            "50/50 [==============================] - 0s 3ms/step - loss: 0.3019 - accuracy: 0.8697 - val_loss: 0.5303 - val_accuracy: 0.7398\n",
            "Epoch 90/100\n",
            "50/50 [==============================] - 0s 4ms/step - loss: 0.2937 - accuracy: 0.8859 - val_loss: 0.5444 - val_accuracy: 0.7154\n",
            "Epoch 91/100\n",
            "50/50 [==============================] - 0s 4ms/step - loss: 0.2894 - accuracy: 0.8798 - val_loss: 0.5448 - val_accuracy: 0.7317\n",
            "Epoch 92/100\n",
            "50/50 [==============================] - 0s 4ms/step - loss: 0.2914 - accuracy: 0.8717 - val_loss: 0.5427 - val_accuracy: 0.7480\n",
            "Epoch 93/100\n",
            "50/50 [==============================] - 0s 3ms/step - loss: 0.2896 - accuracy: 0.8819 - val_loss: 0.5452 - val_accuracy: 0.7317\n",
            "Epoch 94/100\n",
            "50/50 [==============================] - 0s 5ms/step - loss: 0.2876 - accuracy: 0.8819 - val_loss: 0.5487 - val_accuracy: 0.7398\n",
            "Epoch 95/100\n",
            "50/50 [==============================] - 0s 6ms/step - loss: 0.2865 - accuracy: 0.8798 - val_loss: 0.5556 - val_accuracy: 0.7154\n",
            "Epoch 96/100\n",
            "50/50 [==============================] - 0s 6ms/step - loss: 0.2866 - accuracy: 0.8819 - val_loss: 0.5685 - val_accuracy: 0.7154\n",
            "Epoch 97/100\n",
            "50/50 [==============================] - 0s 5ms/step - loss: 0.2814 - accuracy: 0.8819 - val_loss: 0.5557 - val_accuracy: 0.7236\n",
            "Epoch 98/100\n",
            "50/50 [==============================] - 0s 5ms/step - loss: 0.2799 - accuracy: 0.8921 - val_loss: 0.5645 - val_accuracy: 0.7317\n",
            "Epoch 99/100\n",
            "50/50 [==============================] - 0s 6ms/step - loss: 0.2781 - accuracy: 0.8798 - val_loss: 0.5645 - val_accuracy: 0.7398\n",
            "Epoch 100/100\n",
            "50/50 [==============================] - 0s 5ms/step - loss: 0.2772 - accuracy: 0.8880 - val_loss: 0.5636 - val_accuracy: 0.7480\n"
          ]
        }
      ]
    },
    {
      "cell_type": "code",
      "source": [
        "# Evaluate the model on the test set\n",
        "test_loss, test_accuracy = model.evaluate(X_test_scaled, y_test, verbose=0)\n",
        "\n",
        "print(f\"Test Accuracy: {test_accuracy * 100:.2f}%\")"
      ],
      "metadata": {
        "colab": {
          "base_uri": "https://localhost:8080/"
        },
        "id": "cIQ3XlM4Y1Zj",
        "outputId": "0cbb002b-ef54-4dc3-a6b3-aad01f93ac6c"
      },
      "execution_count": 21,
      "outputs": [
        {
          "output_type": "stream",
          "name": "stdout",
          "text": [
            "Test Accuracy: 75.32%\n"
          ]
        }
      ]
    },
    {
      "cell_type": "code",
      "source": [
        "# Predictions\n",
        "y_pred = model.predict(X_test_scaled)\n",
        "y_pred = (y_pred > 0.5).astype(int)  # Convert probabilities to binary output\n",
        "\n",
        "# Display results\n",
        "print(\"Predicted Outcomes:\", y_pred.flatten())\n",
        "print(\"Actual Outcomes:   \", y_test.values)"
      ],
      "metadata": {
        "colab": {
          "base_uri": "https://localhost:8080/"
        },
        "id": "0lVKVDd_ZFwr",
        "outputId": "359bc79e-b37d-444b-a958-7d3d098f584e"
      },
      "execution_count": 30,
      "outputs": [
        {
          "output_type": "stream",
          "name": "stdout",
          "text": [
            "5/5 [==============================] - 0s 5ms/step\n",
            "Predicted Outcomes: [0 0 0 0 0 0 0 0 1 0 0 1 0 1 0 0 0 0 1 1 0 0 0 0 0 1 0 0 0 0 1 1 1 1 1 1 1\n",
            " 1 0 1 0 0 1 0 0 1 1 0 0 1 0 1 1 0 0 0 0 0 0 1 1 1 1 0 0 1 0 1 0 1 1 0 0 0\n",
            " 0 0 0 0 0 0 1 0 0 0 0 1 1 0 0 0 0 0 0 1 1 1 1 0 0 0 1 0 0 0 1 0 0 1 0 1 0\n",
            " 1 0 1 0 1 1 0 0 1 0 0 0 0 0 0 0 1 1 1 1 1 0 0 1 0 0 0 1 0 0 0 0 0 0 0 0 0\n",
            " 0 1 0 0 0 0]\n",
            "Actual Outcomes:    [0 0 0 0 0 0 0 0 0 0 1 0 1 0 0 1 0 0 1 1 0 0 0 0 0 1 0 0 1 0 1 1 1 1 0 1 1\n",
            " 1 0 1 0 0 0 1 0 1 1 0 0 0 0 1 1 1 0 0 0 0 0 1 1 0 0 1 0 0 0 1 0 1 0 0 0 1\n",
            " 0 0 0 0 0 0 1 1 0 0 0 1 1 1 0 0 0 0 0 1 0 0 0 0 1 0 0 0 1 0 1 0 0 1 1 1 0\n",
            " 0 0 1 0 0 1 0 0 0 0 0 1 0 0 0 1 1 1 0 1 1 0 1 1 0 1 1 1 0 0 0 0 0 0 0 1 0\n",
            " 0 1 0 0 1 0]\n"
          ]
        }
      ]
    },
    {
      "cell_type": "code",
      "source": [
        "# Display predictions and metrics\n",
        "print(\"\\nPredicted Outcomes vs. Actual Outcomes:\")\n",
        "for i in range(len(y_pred_binary)):\n",
        "    print(f\"Predicted: {y_pred_binary[i][0]}, Actual: {y_test.values[i]}\")\n"
      ],
      "metadata": {
        "colab": {
          "base_uri": "https://localhost:8080/"
        },
        "id": "0rNLxa84bNqF",
        "outputId": "cc93922c-43cc-416c-e6a0-9a13f56a3e9b"
      },
      "execution_count": 31,
      "outputs": [
        {
          "output_type": "stream",
          "name": "stdout",
          "text": [
            "\n",
            "Predicted Outcomes vs. Actual Outcomes:\n",
            "Predicted: 0, Actual: 0\n",
            "Predicted: 0, Actual: 0\n",
            "Predicted: 0, Actual: 0\n",
            "Predicted: 0, Actual: 0\n",
            "Predicted: 0, Actual: 0\n",
            "Predicted: 0, Actual: 0\n",
            "Predicted: 0, Actual: 0\n",
            "Predicted: 0, Actual: 0\n",
            "Predicted: 1, Actual: 0\n",
            "Predicted: 0, Actual: 0\n",
            "Predicted: 0, Actual: 1\n",
            "Predicted: 1, Actual: 0\n",
            "Predicted: 0, Actual: 1\n",
            "Predicted: 1, Actual: 0\n",
            "Predicted: 0, Actual: 0\n",
            "Predicted: 0, Actual: 1\n",
            "Predicted: 0, Actual: 0\n",
            "Predicted: 0, Actual: 0\n",
            "Predicted: 1, Actual: 1\n",
            "Predicted: 1, Actual: 1\n",
            "Predicted: 0, Actual: 0\n",
            "Predicted: 0, Actual: 0\n",
            "Predicted: 0, Actual: 0\n",
            "Predicted: 0, Actual: 0\n",
            "Predicted: 0, Actual: 0\n",
            "Predicted: 1, Actual: 1\n",
            "Predicted: 0, Actual: 0\n",
            "Predicted: 0, Actual: 0\n",
            "Predicted: 0, Actual: 1\n",
            "Predicted: 0, Actual: 0\n",
            "Predicted: 1, Actual: 1\n",
            "Predicted: 1, Actual: 1\n",
            "Predicted: 1, Actual: 1\n",
            "Predicted: 1, Actual: 1\n",
            "Predicted: 1, Actual: 0\n",
            "Predicted: 1, Actual: 1\n",
            "Predicted: 1, Actual: 1\n",
            "Predicted: 1, Actual: 1\n",
            "Predicted: 0, Actual: 0\n",
            "Predicted: 1, Actual: 1\n",
            "Predicted: 0, Actual: 0\n",
            "Predicted: 0, Actual: 0\n",
            "Predicted: 1, Actual: 0\n",
            "Predicted: 0, Actual: 1\n",
            "Predicted: 0, Actual: 0\n",
            "Predicted: 1, Actual: 1\n",
            "Predicted: 1, Actual: 1\n",
            "Predicted: 0, Actual: 0\n",
            "Predicted: 0, Actual: 0\n",
            "Predicted: 1, Actual: 0\n",
            "Predicted: 0, Actual: 0\n",
            "Predicted: 1, Actual: 1\n",
            "Predicted: 1, Actual: 1\n",
            "Predicted: 0, Actual: 1\n",
            "Predicted: 0, Actual: 0\n",
            "Predicted: 0, Actual: 0\n",
            "Predicted: 0, Actual: 0\n",
            "Predicted: 0, Actual: 0\n",
            "Predicted: 0, Actual: 0\n",
            "Predicted: 1, Actual: 1\n",
            "Predicted: 1, Actual: 1\n",
            "Predicted: 1, Actual: 0\n",
            "Predicted: 1, Actual: 0\n",
            "Predicted: 0, Actual: 1\n",
            "Predicted: 0, Actual: 0\n",
            "Predicted: 1, Actual: 0\n",
            "Predicted: 0, Actual: 0\n",
            "Predicted: 1, Actual: 1\n",
            "Predicted: 0, Actual: 0\n",
            "Predicted: 1, Actual: 1\n",
            "Predicted: 1, Actual: 0\n",
            "Predicted: 0, Actual: 0\n",
            "Predicted: 0, Actual: 0\n",
            "Predicted: 0, Actual: 1\n",
            "Predicted: 0, Actual: 0\n",
            "Predicted: 0, Actual: 0\n",
            "Predicted: 0, Actual: 0\n",
            "Predicted: 0, Actual: 0\n",
            "Predicted: 0, Actual: 0\n",
            "Predicted: 0, Actual: 0\n",
            "Predicted: 1, Actual: 1\n",
            "Predicted: 0, Actual: 1\n",
            "Predicted: 0, Actual: 0\n",
            "Predicted: 0, Actual: 0\n",
            "Predicted: 0, Actual: 0\n",
            "Predicted: 1, Actual: 1\n",
            "Predicted: 1, Actual: 1\n",
            "Predicted: 0, Actual: 1\n",
            "Predicted: 0, Actual: 0\n",
            "Predicted: 0, Actual: 0\n",
            "Predicted: 0, Actual: 0\n",
            "Predicted: 0, Actual: 0\n",
            "Predicted: 0, Actual: 0\n",
            "Predicted: 1, Actual: 1\n",
            "Predicted: 1, Actual: 0\n",
            "Predicted: 1, Actual: 0\n",
            "Predicted: 1, Actual: 0\n",
            "Predicted: 0, Actual: 0\n",
            "Predicted: 0, Actual: 1\n",
            "Predicted: 0, Actual: 0\n",
            "Predicted: 1, Actual: 0\n",
            "Predicted: 0, Actual: 0\n",
            "Predicted: 0, Actual: 1\n",
            "Predicted: 0, Actual: 0\n",
            "Predicted: 1, Actual: 1\n",
            "Predicted: 0, Actual: 0\n",
            "Predicted: 0, Actual: 0\n",
            "Predicted: 1, Actual: 1\n",
            "Predicted: 0, Actual: 1\n",
            "Predicted: 1, Actual: 1\n",
            "Predicted: 0, Actual: 0\n",
            "Predicted: 1, Actual: 0\n",
            "Predicted: 0, Actual: 0\n",
            "Predicted: 1, Actual: 1\n",
            "Predicted: 0, Actual: 0\n",
            "Predicted: 1, Actual: 0\n",
            "Predicted: 1, Actual: 1\n",
            "Predicted: 0, Actual: 0\n",
            "Predicted: 0, Actual: 0\n",
            "Predicted: 1, Actual: 0\n",
            "Predicted: 0, Actual: 0\n",
            "Predicted: 0, Actual: 0\n",
            "Predicted: 0, Actual: 1\n",
            "Predicted: 0, Actual: 0\n",
            "Predicted: 0, Actual: 0\n",
            "Predicted: 0, Actual: 0\n",
            "Predicted: 0, Actual: 1\n",
            "Predicted: 1, Actual: 1\n",
            "Predicted: 1, Actual: 1\n",
            "Predicted: 1, Actual: 0\n",
            "Predicted: 1, Actual: 1\n",
            "Predicted: 1, Actual: 1\n",
            "Predicted: 0, Actual: 0\n",
            "Predicted: 0, Actual: 1\n",
            "Predicted: 1, Actual: 1\n",
            "Predicted: 0, Actual: 0\n",
            "Predicted: 0, Actual: 1\n",
            "Predicted: 0, Actual: 1\n",
            "Predicted: 1, Actual: 1\n",
            "Predicted: 0, Actual: 0\n",
            "Predicted: 0, Actual: 0\n",
            "Predicted: 0, Actual: 0\n",
            "Predicted: 0, Actual: 0\n",
            "Predicted: 0, Actual: 0\n",
            "Predicted: 0, Actual: 0\n",
            "Predicted: 0, Actual: 0\n",
            "Predicted: 0, Actual: 1\n",
            "Predicted: 0, Actual: 0\n",
            "Predicted: 0, Actual: 0\n",
            "Predicted: 1, Actual: 1\n",
            "Predicted: 0, Actual: 0\n",
            "Predicted: 0, Actual: 0\n",
            "Predicted: 0, Actual: 1\n",
            "Predicted: 0, Actual: 0\n"
          ]
        }
      ]
    },
    {
      "cell_type": "code",
      "source": [
        "# Calculate and print the number of patients with diabetes and without\n",
        "num_diabetes_predicted = np.count_nonzero(y_pred_binary == 1)\n",
        "num_non_diabetes_predicted = np.count_nonzero(y_pred_binary == 0)\n",
        "print(f\"\\nPatients with Diabetes: {num_diabetes_predicted}\")\n",
        "print(f\"Patients without Diabetes: {num_non_diabetes_predicted}\")\n"
      ],
      "metadata": {
        "colab": {
          "base_uri": "https://localhost:8080/"
        },
        "id": "56uPQwJ5bQnS",
        "outputId": "9ce6b619-07d4-4184-fbac-b81c31933da2"
      },
      "execution_count": 32,
      "outputs": [
        {
          "output_type": "stream",
          "name": "stdout",
          "text": [
            "\n",
            "Patients with Diabetes: 53\n",
            "Patients without Diabetes: 101\n"
          ]
        }
      ]
    },
    {
      "cell_type": "code",
      "source": [
        "# Print model training accuracy and test accuracy in percentage\n",
        "train_accuracy = history.history['accuracy'][-1] * 100\n",
        "print(f\"\\nTraining Model  Accuracy: {train_accuracy:.2f}%\")\n",
        "print(f\"Test Model Accuracy: {test_accuracy * 100:.2f}%\")"
      ],
      "metadata": {
        "id": "kYNi5XZVbS7p",
        "outputId": "8826f57b-98e3-4f7e-c66f-5659d716b059",
        "colab": {
          "base_uri": "https://localhost:8080/"
        }
      },
      "execution_count": 34,
      "outputs": [
        {
          "output_type": "stream",
          "name": "stdout",
          "text": [
            "\n",
            "Training Model  Accuracy: 88.80%\n",
            "Test Model Accuracy: 75.32%\n"
          ]
        }
      ]
    }
  ],
  "metadata": {
    "kernelspec": {
      "display_name": "Python 3",
      "language": "python",
      "name": "python3"
    },
    "language_info": {
      "codemirror_mode": {
        "name": "ipython",
        "version": 3
      },
      "file_extension": ".py",
      "mimetype": "text/x-python",
      "name": "python",
      "nbconvert_exporter": "python",
      "pygments_lexer": "ipython3",
      "version": "3.12.2"
    },
    "colab": {
      "provenance": []
    }
  },
  "nbformat": 4,
  "nbformat_minor": 0
}